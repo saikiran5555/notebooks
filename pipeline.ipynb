{
 "cells": [
  {
   "cell_type": "code",
   "execution_count": 1,
   "id": "23d9e501-8001-4bcc-a918-81d23fb9a1e8",
   "metadata": {},
   "outputs": [
    {
     "name": "stdout",
     "output_type": "stream",
     "text": [
      "R² value: 0.7118\n"
     ]
    }
   ],
   "source": [
    "import pandas as pd\n",
    "from sklearn.linear_model import LinearRegression\n",
    "from sklearn.pipeline import Pipeline\n",
    "from sklearn.preprocessing import StandardScaler, PolynomialFeatures\n",
    "from sklearn.model_selection import train_test_split\n",
    "from sklearn.metrics import r2_score\n",
    "\n",
    "# Load the dataset\n",
    "df = pd.read_csv('kc_house_data.csv')\n",
    "\n",
    "# Define the features and target variable\n",
    "features = [\n",
    "    \"floors\",\n",
    "    \"waterfront\",\n",
    "    \"lat\",\n",
    "    \"bedrooms\",\n",
    "    \"sqft_basement\",\n",
    "    \"view\",\n",
    "    \"bathrooms\",\n",
    "    \"sqft_living15\",\n",
    "    \"sqft_above\",\n",
    "    \"grade\",\n",
    "    \"sqft_living\"\n",
    "]\n",
    "X = df[features]  # Features\n",
    "y = df['price']   # Target variable\n",
    "\n",
    "# Split the dataset into training and testing sets\n",
    "X_train, X_test, y_train, y_test = train_test_split(X, y, test_size=0.2, random_state=42)\n",
    "\n",
    "# Create a pipeline object\n",
    "pipeline = Pipeline([\n",
    "    ('scaler', StandardScaler()),           # Step 1: Scale the data\n",
    "    ('poly_features', PolynomialFeatures(degree=2)),  # Step 2: Polynomial transformation\n",
    "    ('model', LinearRegression())           # Step 3: Fit a linear regression model\n",
    "])\n",
    "\n",
    "# Fit the pipeline using the training data\n",
    "pipeline.fit(X_train, y_train)\n",
    "\n",
    "# Make predictions on the test set\n",
    "y_pred = pipeline.predict(X_test)\n",
    "\n",
    "# Calculate R² value\n",
    "r2 = r2_score(y_test, y_pred)\n",
    "\n",
    "# Print the R² value\n",
    "print(f\"R² value: {r2:.4f}\")\n"
   ]
  },
  {
   "cell_type": "code",
   "execution_count": null,
   "id": "b6acfa0e-f6f0-487e-8afd-736434f5bf1e",
   "metadata": {},
   "outputs": [],
   "source": []
  }
 ],
 "metadata": {
  "kernelspec": {
   "display_name": "Python 3 (ipykernel)",
   "language": "python",
   "name": "python3"
  },
  "language_info": {
   "codemirror_mode": {
    "name": "ipython",
    "version": 3
   },
   "file_extension": ".py",
   "mimetype": "text/x-python",
   "name": "python",
   "nbconvert_exporter": "python",
   "pygments_lexer": "ipython3",
   "version": "3.12.4"
  }
 },
 "nbformat": 4,
 "nbformat_minor": 5
}
