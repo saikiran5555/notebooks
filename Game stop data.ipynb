{
 "cells": [
  {
   "cell_type": "code",
   "execution_count": 1,
   "id": "d0cf4e1c-cec4-4ff6-b69d-f1fd053bd47a",
   "metadata": {},
   "outputs": [
    {
     "name": "stdout",
     "output_type": "stream",
     "text": [
      "                                Open       High        Low  Close   Volume  \\\n",
      "Date                                                                         \n",
      "2023-10-17 00:00:00-04:00  14.250000  14.830000  14.100000  14.12  3842400   \n",
      "2023-10-18 00:00:00-04:00  14.000000  14.250000  13.810000  13.85  4045800   \n",
      "2023-10-19 00:00:00-04:00  13.800000  13.850000  12.900000  13.16  5808000   \n",
      "2023-10-20 00:00:00-04:00  13.180000  13.800000  13.120000  13.44  3657600   \n",
      "2023-10-23 00:00:00-04:00  13.280000  13.590000  13.040000  13.44  2785500   \n",
      "...                              ...        ...        ...    ...      ...   \n",
      "2024-10-10 00:00:00-04:00  20.469999  21.049999  20.379999  20.91  4180800   \n",
      "2024-10-11 00:00:00-04:00  20.660000  21.219999  20.660000  20.83  3931600   \n",
      "2024-10-14 00:00:00-04:00  20.750000  21.670000  20.459999  21.33  6636600   \n",
      "2024-10-15 00:00:00-04:00  21.450001  21.680000  20.980000  21.27  4851900   \n",
      "2024-10-16 00:00:00-04:00  21.129999  21.750000  21.030001  21.66  4232600   \n",
      "\n",
      "                           Dividends  Stock Splits  \n",
      "Date                                                \n",
      "2023-10-17 00:00:00-04:00        0.0           0.0  \n",
      "2023-10-18 00:00:00-04:00        0.0           0.0  \n",
      "2023-10-19 00:00:00-04:00        0.0           0.0  \n",
      "2023-10-20 00:00:00-04:00        0.0           0.0  \n",
      "2023-10-23 00:00:00-04:00        0.0           0.0  \n",
      "...                              ...           ...  \n",
      "2024-10-10 00:00:00-04:00        0.0           0.0  \n",
      "2024-10-11 00:00:00-04:00        0.0           0.0  \n",
      "2024-10-14 00:00:00-04:00        0.0           0.0  \n",
      "2024-10-15 00:00:00-04:00        0.0           0.0  \n",
      "2024-10-16 00:00:00-04:00        0.0           0.0  \n",
      "\n",
      "[252 rows x 7 columns]\n"
     ]
    }
   ],
   "source": [
    "import yfinance as yf\n",
    "import pandas as pd\n",
    "ticker_symbol = 'GME'\n",
    "gamestop = yf.Ticker(ticker_symbol)\n",
    "\n",
    "historical_data = gamestop.history(period='1y')  # You can adjust the period (e.g., '1mo', '3mo', '1y', '5y')\n",
    "print(historical_data)\n",
    "historical_data.to_csv('gamestop_stock_data.csv')\n"
   ]
  },
  {
   "cell_type": "code",
   "execution_count": null,
   "id": "fa9330a3-4681-44aa-94b9-fce7299c26c5",
   "metadata": {},
   "outputs": [],
   "source": []
  }
 ],
 "metadata": {
  "kernelspec": {
   "display_name": "Python 3 (ipykernel)",
   "language": "python",
   "name": "python3"
  },
  "language_info": {
   "codemirror_mode": {
    "name": "ipython",
    "version": 3
   },
   "file_extension": ".py",
   "mimetype": "text/x-python",
   "name": "python",
   "nbconvert_exporter": "python",
   "pygments_lexer": "ipython3",
   "version": "3.12.4"
  }
 },
 "nbformat": 4,
 "nbformat_minor": 5
}
