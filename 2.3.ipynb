{
 "cells": [
  {
   "cell_type": "code",
   "execution_count": 1,
   "id": "cc1fd963-d4c7-4954-a16e-fdef13996ddf",
   "metadata": {},
   "outputs": [
    {
     "name": "stderr",
     "output_type": "stream",
     "text": [
      "C:\\Users\\saik7\\AppData\\Local\\Temp\\ipykernel_30652\\2605623323.py:9: FutureWarning: 'M' is deprecated and will be removed in a future version, please use 'ME' instead.\n",
      "  date_range = pd.date_range(start='1980-01-01', end='2022-12-31', freq='M')\n"
     ]
    },
    {
     "data": {
      "text/html": [
       "\n",
       "        <iframe\n",
       "            width=\"100%\"\n",
       "            height=\"650\"\n",
       "            src=\"http://127.0.0.1:8053/\"\n",
       "            frameborder=\"0\"\n",
       "            allowfullscreen\n",
       "            \n",
       "        ></iframe>\n",
       "        "
      ],
      "text/plain": [
       "<IPython.lib.display.IFrame at 0x25277472780>"
      ]
     },
     "metadata": {},
     "output_type": "display_data"
    }
   ],
   "source": [
    "import pandas as pd\n",
    "import numpy as np\n",
    "from dash import dcc, html, Input, Output\n",
    "import dash\n",
    "\n",
    "# Create a function to generate sample data\n",
    "def create_dataset():\n",
    "    # Create a date range\n",
    "    date_range = pd.date_range(start='1980-01-01', end='2022-12-31', freq='M')\n",
    "\n",
    "    # Create a DataFrame\n",
    "    data = {\n",
    "        'Date': date_range,\n",
    "        'Recession': np.where(\n",
    "            ((date_range.year == 1980) |\n",
    "             ((date_range.year >= 1981) & (date_range.year <= 1982)) |\n",
    "             (date_range.year == 1991) |\n",
    "             ((date_range.year >= 2000) & (date_range.year <= 2001)) |\n",
    "             ((date_range.year >= 2007) & (date_range.year <= 2009)) |\n",
    "             ((date_range.year == 2020) & (date_range.month.isin([2, 3, 4])))), 1, 0),\n",
    "        'Automobile_Sales': np.random.randint(100, 1000, size=len(date_range)),\n",
    "        'GDP': np.random.randint(20000, 60000, size=len(date_range)),\n",
    "        'Unemployment_Rate': np.random.uniform(3, 10, size=len(date_range)),\n",
    "        'Consumer_Confidence': np.random.randint(50, 100, size=len(date_range)),\n",
    "        'Seasonality_Weight': np.random.uniform(0.5, 1.5, size=len(date_range)),\n",
    "        'Price': np.random.randint(20000, 50000, size=len(date_range)),\n",
    "        'Advertising_Expenditure': np.random.randint(5000, 20000, size=len(date_range)),\n",
    "        'Vehicle_Type': np.random.choice(['Superminicar', 'Smallfamilycar', 'Mediumfamilycar', 'Executivecar', 'Sports'], size=len(date_range)),\n",
    "    }\n",
    "\n",
    "    df = pd.DataFrame(data)\n",
    "    df['Month'] = df['Date'].dt.month\n",
    "    return df\n",
    "\n",
    "# Create the dataset\n",
    "df = create_dataset()\n",
    "\n",
    "# Initialize the Dash app\n",
    "app = dash.Dash(__name__)\n",
    "\n",
    "# Layout of the Dash app\n",
    "app.layout = html.Div([\n",
    "    html.H1(\"Automobile Sales Dashboard\"),\n",
    "    \n",
    "    # Dropdown for Vehicle Type selection\n",
    "    dcc.Dropdown(\n",
    "        id='vehicle-type-dropdown',\n",
    "        options=[{'label': vehicle, 'value': vehicle} for vehicle in df['Vehicle_Type'].unique()],\n",
    "        value=df['Vehicle_Type'].unique()[0],  # Default value\n",
    "        multi=False,\n",
    "        clearable=False,\n",
    "        className='dropdown',\n",
    "        placeholder=\"Select a Vehicle Type\"\n",
    "    ),\n",
    "\n",
    "    # Dropdown for Recession status selection\n",
    "    dcc.Dropdown(\n",
    "        id='recession-dropdown',\n",
    "        options=[\n",
    "            {'label': 'During Recession', 'value': '1'},\n",
    "            {'label': 'Not During Recession', 'value': '0'}\n",
    "        ],\n",
    "        value='0',  # Default value\n",
    "        multi=False,\n",
    "        clearable=False,\n",
    "        className='dropdown',\n",
    "        placeholder=\"Select Recession Status\"\n",
    "    ),\n",
    "    \n",
    "    # Division for output display\n",
    "    html.Div(id='output-display', className='output-display', style={'margin-top': '20px'}),\n",
    "\n",
    "    # Graph or any other components can be added here as needed\n",
    "])\n",
    "\n",
    "# Callback to update output display based on dropdown selection\n",
    "@app.callback(\n",
    "    Output('output-display', 'children'),\n",
    "    [Input('vehicle-type-dropdown', 'value'),\n",
    "     Input('recession-dropdown', 'value')]\n",
    ")\n",
    "def update_output(vehicle_type, recession_status):\n",
    "    filtered_data = df[(df['Vehicle_Type'] == vehicle_type) & (df['Recession'].astype(str) == recession_status)]\n",
    "    total_sales = filtered_data['Automobile_Sales'].sum()\n",
    "    return f'Total Automobile Sales for {vehicle_type} during {\"Recession\" if recession_status == \"1\" else \"Non-Recession\"}: {total_sales}'\n",
    "\n",
    "# Run the app\n",
    "if __name__ == '__main__':\n",
    "    app.run_server(debug=True, port=8053)  # Change port if necessary\n"
   ]
  },
  {
   "cell_type": "code",
   "execution_count": null,
   "id": "d64d664c-185a-4278-a269-aaa52b0ab58b",
   "metadata": {},
   "outputs": [],
   "source": []
  }
 ],
 "metadata": {
  "kernelspec": {
   "display_name": "Python 3 (ipykernel)",
   "language": "python",
   "name": "python3"
  },
  "language_info": {
   "codemirror_mode": {
    "name": "ipython",
    "version": 3
   },
   "file_extension": ".py",
   "mimetype": "text/x-python",
   "name": "python",
   "nbconvert_exporter": "python",
   "pygments_lexer": "ipython3",
   "version": "3.12.4"
  }
 },
 "nbformat": 4,
 "nbformat_minor": 5
}
