{
 "cells": [
  {
   "cell_type": "code",
   "execution_count": 7,
   "id": "d27e0505-55e7-436c-bb33-930669fe1ffa",
   "metadata": {},
   "outputs": [
    {
     "name": "stdout",
     "output_type": "stream",
     "text": [
      "2023-12-31    96773000000.0\n",
      "2022-12-31    81462000000.0\n",
      "2021-12-31    53823000000.0\n",
      "2020-12-31    31536000000.0\n",
      "2019-12-31              NaN\n",
      "Name: Total Revenue, dtype: object\n"
     ]
    }
   ],
   "source": [
    "import yfinance as yf\n",
    "\n",
    "# Get Tesla data\n",
    "tesla = yf.Ticker(\"TSLA\")\n",
    "\n",
    "# Get revenue data\n",
    "tesla_financials = tesla.financials\n",
    "revenue = tesla_financials.loc['Total Revenue']\n",
    "\n",
    "print(revenue)\n"
   ]
  },
  {
   "cell_type": "code",
   "execution_count": null,
   "id": "b6f8baa0-1931-45b5-943a-ada3a8b4f728",
   "metadata": {},
   "outputs": [],
   "source": []
  }
 ],
 "metadata": {
  "kernelspec": {
   "display_name": "Python 3 (ipykernel)",
   "language": "python",
   "name": "python3"
  },
  "language_info": {
   "codemirror_mode": {
    "name": "ipython",
    "version": 3
   },
   "file_extension": ".py",
   "mimetype": "text/x-python",
   "name": "python",
   "nbconvert_exporter": "python",
   "pygments_lexer": "ipython3",
   "version": "3.12.4"
  }
 },
 "nbformat": 4,
 "nbformat_minor": 5
}
