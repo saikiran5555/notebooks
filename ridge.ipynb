{
 "cells": [
  {
   "cell_type": "code",
   "execution_count": 1,
   "id": "d22db6bf-e9fd-419e-8dfb-c4ec4202304f",
   "metadata": {},
   "outputs": [
    {
     "name": "stdout",
     "output_type": "stream",
     "text": [
      "R² value: 0.6615\n"
     ]
    }
   ],
   "source": [
    "import pandas as pd\n",
    "from sklearn.linear_model import Ridge\n",
    "from sklearn.model_selection import train_test_split\n",
    "from sklearn.metrics import r2_score\n",
    "\n",
    "# Load the dataset\n",
    "df = pd.read_csv('kc_house_data.csv')\n",
    "\n",
    "# Define the features and target variable\n",
    "features = [\n",
    "    \"floors\",\n",
    "    \"waterfront\",\n",
    "    \"lat\",\n",
    "    \"bedrooms\",\n",
    "    \"sqft_basement\",\n",
    "    \"view\",\n",
    "    \"bathrooms\",\n",
    "    \"sqft_living15\",\n",
    "    \"sqft_above\",\n",
    "    \"grade\",\n",
    "    \"sqft_living\"\n",
    "]\n",
    "X = df[features]  # Features\n",
    "y = df['price']   # Target variable\n",
    "\n",
    "# Split the dataset into training and testing sets\n",
    "X_train, X_test, y_train, y_test = train_test_split(X, y, test_size=0.2, random_state=42)\n",
    "\n",
    "# Create and fit a Ridge regression object with regularization parameter alpha set to 0.1\n",
    "ridge_model = Ridge(alpha=0.1)\n",
    "ridge_model.fit(X_train, y_train)\n",
    "\n",
    "# Make predictions on the test set\n",
    "y_pred = ridge_model.predict(X_test)\n",
    "\n",
    "# Calculate R² value\n",
    "r2 = r2_score(y_test, y_pred)\n",
    "\n",
    "# Print the R² value\n",
    "print(f\"R² value: {r2:.4f}\")\n"
   ]
  },
  {
   "cell_type": "code",
   "execution_count": null,
   "id": "1d4f730b-99e4-4c2b-8436-55b517fe07f0",
   "metadata": {},
   "outputs": [],
   "source": []
  }
 ],
 "metadata": {
  "kernelspec": {
   "display_name": "Python 3 (ipykernel)",
   "language": "python",
   "name": "python3"
  },
  "language_info": {
   "codemirror_mode": {
    "name": "ipython",
    "version": 3
   },
   "file_extension": ".py",
   "mimetype": "text/x-python",
   "name": "python",
   "nbconvert_exporter": "python",
   "pygments_lexer": "ipython3",
   "version": "3.12.4"
  }
 },
 "nbformat": 4,
 "nbformat_minor": 5
}
