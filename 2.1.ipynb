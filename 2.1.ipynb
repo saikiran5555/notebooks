{
 "cells": [
  {
   "cell_type": "code",
   "execution_count": 31,
   "id": "c4f67843-cecd-455c-a935-e457a7488227",
   "metadata": {},
   "outputs": [
    {
     "name": "stderr",
     "output_type": "stream",
     "text": [
      "C:\\Users\\saik7\\AppData\\Local\\Temp\\ipykernel_35972\\2482876701.py:12: FutureWarning:\n",
      "\n",
      "'M' is deprecated and will be removed in a future version, please use 'ME' instead.\n",
      "\n"
     ]
    },
    {
     "data": {
      "text/html": [
       "\n",
       "        <iframe\n",
       "            width=\"100%\"\n",
       "            height=\"650\"\n",
       "            src=\"http://127.0.0.1:8051/\"\n",
       "            frameborder=\"0\"\n",
       "            allowfullscreen\n",
       "            \n",
       "        ></iframe>\n",
       "        "
      ],
      "text/plain": [
       "<IPython.lib.display.IFrame at 0x2622375fc80>"
      ]
     },
     "metadata": {},
     "output_type": "display_data"
    }
   ],
   "source": [
    "# Import necessary libraries\n",
    "import pandas as pd\n",
    "import numpy as np\n",
    "import dash\n",
    "from dash import dcc, html\n",
    "from dash.dependencies import Input, Output\n",
    "import plotly.express as px\n",
    "\n",
    "# Create a sample dataset\n",
    "def create_dataset():\n",
    "    # Date range for the dataset\n",
    "    date_range = pd.date_range(start='1980-01-01', end='2022-12-31', freq='M')\n",
    "\n",
    "    # Create a DataFrame\n",
    "    data = {\n",
    "        'Date': date_range,\n",
    "        'Recession': np.where(\n",
    "            ((date_range.year == 1980) |\n",
    "             ((date_range.year >= 1981) & (date_range.year <= 1982)) |\n",
    "             (date_range.year == 1991) |\n",
    "             ((date_range.year >= 2000) & (date_range.year <= 2001)) |\n",
    "             ((date_range.year >= 2007) & (date_range.year <= 2009)) |\n",
    "             ((date_range.year == 2020) & (date_range.month.isin([2, 3, 4])))), 1, 0),\n",
    "        'Automobile_Sales': np.random.randint(100, 1000, size=len(date_range)),\n",
    "        'GDP': np.random.randint(20000, 60000, size=len(date_range)),\n",
    "        'Unemployment_Rate': np.random.uniform(3, 10, size=len(date_range)),\n",
    "        'Consumer_Confidence': np.random.randint(50, 100, size=len(date_range)),\n",
    "        'Seasonality_Weight': np.random.uniform(0.5, 1.5, size=len(date_range)),\n",
    "        'Price': np.random.randint(20000, 50000, size=len(date_range)),\n",
    "        'Advertising_Expenditure': np.random.randint(5000, 20000, size=len(date_range)),\n",
    "        'Vehicle_Type': np.random.choice(['Superminicar', 'Smallfamilycar', 'Mediumfamilycar', 'Executivecar', 'Sports'], size=len(date_range)),\n",
    "    }\n",
    "    \n",
    "    df = pd.DataFrame(data)\n",
    "    df['Month'] = df['Date'].dt.month\n",
    "    df['Year'] = df['Date'].dt.year\n",
    "    return df\n",
    "\n",
    "# Create the dataset\n",
    "df = create_dataset()\n",
    "\n",
    "# Initialize the Dash app\n",
    "app = dash.Dash(__name__)\n",
    "\n",
    "# Set up the app layout\n",
    "app.layout = html.Div(children=[\n",
    "    html.H1(children='XYZAutomotives Sales Dashboard'),\n",
    "\n",
    "    dcc.Graph(\n",
    "        id='sales-line-chart',\n",
    "        figure=px.line(df, x='Date', y='Automobile_Sales', color='Vehicle_Type', title='Automobile Sales Over Time')\n",
    "    ),\n",
    "\n",
    "    dcc.Graph(\n",
    "        id='gdp-line-chart',\n",
    "        figure=px.line(df, x='Date', y='GDP', title='GDP Over Time')\n",
    "    ),\n",
    "\n",
    "    dcc.Graph(\n",
    "        id='unemployment-scatter',\n",
    "        figure=px.scatter(df[df['Recession'] == 1], x='Unemployment_Rate', y='Automobile_Sales', \n",
    "                          title='Unemployment Rate vs Sales (Recession Period)', color='Vehicle_Type')\n",
    "    )\n",
    "])\n",
    "\n",
    "# Run the app\n",
    "if __name__ == '__main__':\n",
    "    app.run_server(debug=True, port=8051)\n"
   ]
  },
  {
   "cell_type": "code",
   "execution_count": null,
   "id": "4a5a20c9-a12c-4d50-b4b4-19fac88c7575",
   "metadata": {},
   "outputs": [],
   "source": []
  }
 ],
 "metadata": {
  "kernelspec": {
   "display_name": "Python 3 (ipykernel)",
   "language": "python",
   "name": "python3"
  },
  "language_info": {
   "codemirror_mode": {
    "name": "ipython",
    "version": 3
   },
   "file_extension": ".py",
   "mimetype": "text/x-python",
   "name": "python",
   "nbconvert_exporter": "python",
   "pygments_lexer": "ipython3",
   "version": "3.12.4"
  }
 },
 "nbformat": 4,
 "nbformat_minor": 5
}
